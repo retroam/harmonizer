{
  "nbformat": 4,
  "nbformat_minor": 0,
  "metadata": {
    "colab": {
      "provenance": [],
      "authorship_tag": "ABX9TyNapUF7J1BcAIFSGk7xvOO0",
      "include_colab_link": true
    },
    "kernelspec": {
      "name": "python3",
      "display_name": "Python 3"
    },
    "language_info": {
      "name": "python"
    }
  },
  "cells": [
    {
      "cell_type": "markdown",
      "metadata": {
        "id": "view-in-github",
        "colab_type": "text"
      },
      "source": [
        "<a href=\"https://colab.research.google.com/github/retroam/harmonizer/blob/develop/ocean_data.ipynb\" target=\"_parent\"><img src=\"https://colab.research.google.com/assets/colab-badge.svg\" alt=\"Open In Colab\"/></a>"
      ]
    },
    {
      "cell_type": "code",
      "source": [
        "!pip install pycountry -q"
      ],
      "metadata": {
        "colab": {
          "base_uri": "https://localhost:8080/"
        },
        "id": "ekrhrziyA7Q7",
        "outputId": "81d63897-ff75-40b9-8382-68623a31e882"
      },
      "execution_count": 20,
      "outputs": [
        {
          "output_type": "stream",
          "name": "stdout",
          "text": [
            "\u001b[?25l     \u001b[90m━━━━━━━━━━━━━━━━━━━━━━━━━━━━━━━━━━━━━━━━\u001b[0m \u001b[32m0.0/10.1 MB\u001b[0m \u001b[31m?\u001b[0m eta \u001b[36m-:--:--\u001b[0m\r\u001b[2K     \u001b[91m╸\u001b[0m\u001b[90m━━━━━━━━━━━━━━━━━━━━━━━━━━━━━━━━━━━━━━━\u001b[0m \u001b[32m0.2/10.1 MB\u001b[0m \u001b[31m8.0 MB/s\u001b[0m eta \u001b[36m0:00:02\u001b[0m\r\u001b[2K     \u001b[91m━━━━━━━━\u001b[0m\u001b[91m╸\u001b[0m\u001b[90m━━━━━━━━━━━━━━━━━━━━━━━━━━━━━━━\u001b[0m \u001b[32m2.2/10.1 MB\u001b[0m \u001b[31m32.2 MB/s\u001b[0m eta \u001b[36m0:00:01\u001b[0m\r\u001b[2K     \u001b[91m━━━━━━━━━━━━━━━━━━━━━━\u001b[0m\u001b[91m╸\u001b[0m\u001b[90m━━━━━━━━━━━━━━━━━\u001b[0m \u001b[32m5.8/10.1 MB\u001b[0m \u001b[31m55.5 MB/s\u001b[0m eta \u001b[36m0:00:01\u001b[0m\r\u001b[2K     \u001b[91m━━━━━━━━━━━━━━━━━━━━━━━━━━━━━━━━━━━━━━━\u001b[0m\u001b[91m╸\u001b[0m \u001b[32m10.1/10.1 MB\u001b[0m \u001b[31m74.9 MB/s\u001b[0m eta \u001b[36m0:00:01\u001b[0m\r\u001b[2K     \u001b[91m━━━━━━━━━━━━━━━━━━━━━━━━━━━━━━━━━━━━━━━\u001b[0m\u001b[91m╸\u001b[0m \u001b[32m10.1/10.1 MB\u001b[0m \u001b[31m74.9 MB/s\u001b[0m eta \u001b[36m0:00:01\u001b[0m\r\u001b[2K     \u001b[90m━━━━━━━━━━━━━━━━━━━━━━━━━━━━━━━━━━━━━━━━\u001b[0m \u001b[32m10.1/10.1 MB\u001b[0m \u001b[31m49.3 MB/s\u001b[0m eta \u001b[36m0:00:00\u001b[0m\n",
            "\u001b[?25h  Installing build dependencies ... \u001b[?25l\u001b[?25hdone\n",
            "  Getting requirements to build wheel ... \u001b[?25l\u001b[?25hdone\n",
            "  Preparing metadata (pyproject.toml) ... \u001b[?25l\u001b[?25hdone\n",
            "  Building wheel for pycountry (pyproject.toml) ... \u001b[?25l\u001b[?25hdone\n"
          ]
        }
      ]
    },
    {
      "cell_type": "code",
      "execution_count": 3,
      "metadata": {
        "id": "Mdfe2_Lw8PYd"
      },
      "outputs": [],
      "source": [
        "import pandas as pd\n",
        "import os"
      ]
    },
    {
      "cell_type": "code",
      "source": [],
      "metadata": {
        "id": "Qk5ELqOUA7MM"
      },
      "execution_count": null,
      "outputs": []
    },
    {
      "cell_type": "code",
      "source": [
        "fl = 'OpenClimate/harmonize/data/raw/BP_review/bp-stats-review-2022-all-data.xlsx'\n",
        "fl = os.path.abspath(fl)"
      ],
      "metadata": {
        "id": "h5NShbSp8jwI"
      },
      "execution_count": 11,
      "outputs": []
    },
    {
      "cell_type": "code",
      "source": [
        "def df_wide_to_long(df=None,\n",
        "                    value_name=None,\n",
        "                    var_name=None):\n",
        "\n",
        "    # set default values (new column names)\n",
        "    # new column name with {value_vars}\n",
        "    var_name = \"year\" if var_name is None else var_name\n",
        "    # new column name with values\n",
        "    value_name = \"values\" if value_name is None else value_name\n",
        "\n",
        "    # ensure correct type\n",
        "    assert isinstance(df, pd.core.frame.DataFrame), f\"df must be a DataFrame\"\n",
        "    assert isinstance(var_name, str), f\"var_name must a be string\"\n",
        "    assert isinstance(value_name, str), f\"value_name must be a string\"\n",
        "\n",
        "    # ensure column names are strings\n",
        "    df.columns = df.columns.astype(str)\n",
        "\n",
        "    # columns to use as identifiers (columns that are not number)\n",
        "    id_vars = [val for val in list(df.columns) if not val.isdigit()]\n",
        "\n",
        "    # columns to unpivot (columns that are numbers)\n",
        "    value_vars = [val for val in list(df.columns) if val.isdigit()]\n",
        "\n",
        "    # Unpivot (melt) a DataFrame from wide to long format\n",
        "    df_long = df.melt(id_vars=id_vars,\n",
        "                      value_vars=value_vars,\n",
        "                      var_name=var_name,\n",
        "                      value_name=value_name)\n",
        "\n",
        "    # convert var_name column to int\n",
        "    df_long[var_name] = df_long[var_name].astype(int)\n",
        "\n",
        "    return df_long"
      ],
      "metadata": {
        "id": "d0PL7Y1q_V4Z"
      },
      "execution_count": 16,
      "outputs": []
    },
    {
      "cell_type": "code",
      "source": [
        "raw = pd.ExcelFile(fl)"
      ],
      "metadata": {
        "id": "9iTHNmBW8ndB"
      },
      "execution_count": 17,
      "outputs": []
    },
    {
      "cell_type": "code",
      "source": [
        "import pycountry\n",
        "from typing import List\n",
        "from typing import Dict\n",
        "\n",
        "\n",
        "def country_lookup(name):\n",
        "    try:\n",
        "        return pycountry.countries.lookup(name).alpha_2\n",
        "    except LookupError:\n",
        "        return float('NaN')"
      ],
      "metadata": {
        "id": "Dpqag_UZA5AM"
      },
      "execution_count": 21,
      "outputs": []
    },
    {
      "cell_type": "code",
      "source": [
        "xl = pd.ExcelFile(fl)\n",
        "sheets = xl.sheet_names\n",
        "\n",
        "replace_dict = {\n",
        "    'Trinidad & Tobago': 'Trinidad and Tobago',\n",
        "    'China Hong Kong SAR': 'China',\n",
        "    'Iran': 'Iran, Islamic Republic of'\n",
        "}\n",
        "\n",
        "drop_columns = ['2021.1', '2011-21', '2021.2']\n",
        "rename_columns = {'Million tonnes of carbon dioxide equivalent': 'country'}\n",
        "country_groups = ['Central America', 'Eastern Africa', 'Middle Africa', 'Western Africa']\n",
        "not_countries = [\"Source:\", \"Notes:\", \"Growth\", \"Data \", \"European Union\", \"OECD\", \"0.05%\", \"Other \"]\n",
        "\n",
        "df = (\n",
        "    pd.read_excel(fl, sheet_name='CO2e Emissions', header=2)\n",
        "    .drop(columns = drop_columns)\n",
        "    .rename(columns = rename_columns)\n",
        "    .loc[lambda x: x['country'].notnull()]\n",
        "    .loc[lambda x: ~x['country'].str.contains('total', case=False)]\n",
        "    .loc[lambda x: ~x['country'].isin(country_groups)]\n",
        "    .loc[lambda x:  ~(x['country'].str.contains('|'.join(not_countries)))]\n",
        "    .assign(country = lambda x: x.country.replace(replace_dict))\n",
        ")\n",
        "\n",
        "# reshape dataframe\n",
        "df = df_wide_to_long(df, value_name='emissions', var_name='year')\n",
        "\n",
        "# convert from million metric tones to metric tonnes\n",
        "df['total_emissions'] = df['emissions'].apply(lambda x: x * 10**6)\n",
        "\n",
        "# get actor_id from country name\n",
        "df_iso = pd.DataFrame(\n",
        "    data=[(name, country_lookup(name)) for name in set(list(df.country))],\n",
        "    columns=['country', 'actor_id']\n",
        ")\n",
        "\n",
        "if not_found:=list(df_iso.loc[df_iso['actor_id'].isnull(), 'country']):\n",
        "    print(f\"Countries not found: {not_found}\")"
      ],
      "metadata": {
        "id": "Ht7oB4d__ihA"
      },
      "execution_count": 22,
      "outputs": []
    },
    {
      "cell_type": "code",
      "source": [
        "df"
      ],
      "metadata": {
        "colab": {
          "base_uri": "https://localhost:8080/",
          "height": 624
        },
        "id": "rWSpzSKh_uqE",
        "outputId": "7463df30-67b3-462f-fafd-94d3536a2ffc"
      },
      "execution_count": 23,
      "outputs": [
        {
          "output_type": "execute_result",
          "data": {
            "text/plain": [
              "          country  year    emissions  total_emissions\n",
              "0          Canada  1990   480.394916     4.803949e+08\n",
              "1          Mexico  1990   315.852733     3.158527e+08\n",
              "2              US  1990  5275.397531     5.275398e+09\n",
              "3       Argentina  1990   123.904223     1.239042e+08\n",
              "4          Brazil  1990   217.067921     2.170679e+08\n",
              "...           ...   ...          ...              ...\n",
              "2235  Philippines  2021   149.473427     1.494734e+08\n",
              "2236  South Korea  2021   628.697163     6.286972e+08\n",
              "2237       Taiwan  2021   285.258943     2.852589e+08\n",
              "2238     Thailand  2021   301.774696     3.017747e+08\n",
              "2239      Vietnam  2021   339.784512     3.397845e+08\n",
              "\n",
              "[2240 rows x 4 columns]"
            ],
            "text/html": [
              "\n",
              "  <div id=\"df-462989c0-25f8-42ef-ae13-5aac6cb49cb1\">\n",
              "    <div class=\"colab-df-container\">\n",
              "      <div>\n",
              "<style scoped>\n",
              "    .dataframe tbody tr th:only-of-type {\n",
              "        vertical-align: middle;\n",
              "    }\n",
              "\n",
              "    .dataframe tbody tr th {\n",
              "        vertical-align: top;\n",
              "    }\n",
              "\n",
              "    .dataframe thead th {\n",
              "        text-align: right;\n",
              "    }\n",
              "</style>\n",
              "<table border=\"1\" class=\"dataframe\">\n",
              "  <thead>\n",
              "    <tr style=\"text-align: right;\">\n",
              "      <th></th>\n",
              "      <th>country</th>\n",
              "      <th>year</th>\n",
              "      <th>emissions</th>\n",
              "      <th>total_emissions</th>\n",
              "    </tr>\n",
              "  </thead>\n",
              "  <tbody>\n",
              "    <tr>\n",
              "      <th>0</th>\n",
              "      <td>Canada</td>\n",
              "      <td>1990</td>\n",
              "      <td>480.394916</td>\n",
              "      <td>4.803949e+08</td>\n",
              "    </tr>\n",
              "    <tr>\n",
              "      <th>1</th>\n",
              "      <td>Mexico</td>\n",
              "      <td>1990</td>\n",
              "      <td>315.852733</td>\n",
              "      <td>3.158527e+08</td>\n",
              "    </tr>\n",
              "    <tr>\n",
              "      <th>2</th>\n",
              "      <td>US</td>\n",
              "      <td>1990</td>\n",
              "      <td>5275.397531</td>\n",
              "      <td>5.275398e+09</td>\n",
              "    </tr>\n",
              "    <tr>\n",
              "      <th>3</th>\n",
              "      <td>Argentina</td>\n",
              "      <td>1990</td>\n",
              "      <td>123.904223</td>\n",
              "      <td>1.239042e+08</td>\n",
              "    </tr>\n",
              "    <tr>\n",
              "      <th>4</th>\n",
              "      <td>Brazil</td>\n",
              "      <td>1990</td>\n",
              "      <td>217.067921</td>\n",
              "      <td>2.170679e+08</td>\n",
              "    </tr>\n",
              "    <tr>\n",
              "      <th>...</th>\n",
              "      <td>...</td>\n",
              "      <td>...</td>\n",
              "      <td>...</td>\n",
              "      <td>...</td>\n",
              "    </tr>\n",
              "    <tr>\n",
              "      <th>2235</th>\n",
              "      <td>Philippines</td>\n",
              "      <td>2021</td>\n",
              "      <td>149.473427</td>\n",
              "      <td>1.494734e+08</td>\n",
              "    </tr>\n",
              "    <tr>\n",
              "      <th>2236</th>\n",
              "      <td>South Korea</td>\n",
              "      <td>2021</td>\n",
              "      <td>628.697163</td>\n",
              "      <td>6.286972e+08</td>\n",
              "    </tr>\n",
              "    <tr>\n",
              "      <th>2237</th>\n",
              "      <td>Taiwan</td>\n",
              "      <td>2021</td>\n",
              "      <td>285.258943</td>\n",
              "      <td>2.852589e+08</td>\n",
              "    </tr>\n",
              "    <tr>\n",
              "      <th>2238</th>\n",
              "      <td>Thailand</td>\n",
              "      <td>2021</td>\n",
              "      <td>301.774696</td>\n",
              "      <td>3.017747e+08</td>\n",
              "    </tr>\n",
              "    <tr>\n",
              "      <th>2239</th>\n",
              "      <td>Vietnam</td>\n",
              "      <td>2021</td>\n",
              "      <td>339.784512</td>\n",
              "      <td>3.397845e+08</td>\n",
              "    </tr>\n",
              "  </tbody>\n",
              "</table>\n",
              "<p>2240 rows × 4 columns</p>\n",
              "</div>\n",
              "      <button class=\"colab-df-convert\" onclick=\"convertToInteractive('df-462989c0-25f8-42ef-ae13-5aac6cb49cb1')\"\n",
              "              title=\"Convert this dataframe to an interactive table.\"\n",
              "              style=\"display:none;\">\n",
              "        \n",
              "  <svg xmlns=\"http://www.w3.org/2000/svg\" height=\"24px\"viewBox=\"0 0 24 24\"\n",
              "       width=\"24px\">\n",
              "    <path d=\"M0 0h24v24H0V0z\" fill=\"none\"/>\n",
              "    <path d=\"M18.56 5.44l.94 2.06.94-2.06 2.06-.94-2.06-.94-.94-2.06-.94 2.06-2.06.94zm-11 1L8.5 8.5l.94-2.06 2.06-.94-2.06-.94L8.5 2.5l-.94 2.06-2.06.94zm10 10l.94 2.06.94-2.06 2.06-.94-2.06-.94-.94-2.06-.94 2.06-2.06.94z\"/><path d=\"M17.41 7.96l-1.37-1.37c-.4-.4-.92-.59-1.43-.59-.52 0-1.04.2-1.43.59L10.3 9.45l-7.72 7.72c-.78.78-.78 2.05 0 2.83L4 21.41c.39.39.9.59 1.41.59.51 0 1.02-.2 1.41-.59l7.78-7.78 2.81-2.81c.8-.78.8-2.07 0-2.86zM5.41 20L4 18.59l7.72-7.72 1.47 1.35L5.41 20z\"/>\n",
              "  </svg>\n",
              "      </button>\n",
              "      \n",
              "  <style>\n",
              "    .colab-df-container {\n",
              "      display:flex;\n",
              "      flex-wrap:wrap;\n",
              "      gap: 12px;\n",
              "    }\n",
              "\n",
              "    .colab-df-convert {\n",
              "      background-color: #E8F0FE;\n",
              "      border: none;\n",
              "      border-radius: 50%;\n",
              "      cursor: pointer;\n",
              "      display: none;\n",
              "      fill: #1967D2;\n",
              "      height: 32px;\n",
              "      padding: 0 0 0 0;\n",
              "      width: 32px;\n",
              "    }\n",
              "\n",
              "    .colab-df-convert:hover {\n",
              "      background-color: #E2EBFA;\n",
              "      box-shadow: 0px 1px 2px rgba(60, 64, 67, 0.3), 0px 1px 3px 1px rgba(60, 64, 67, 0.15);\n",
              "      fill: #174EA6;\n",
              "    }\n",
              "\n",
              "    [theme=dark] .colab-df-convert {\n",
              "      background-color: #3B4455;\n",
              "      fill: #D2E3FC;\n",
              "    }\n",
              "\n",
              "    [theme=dark] .colab-df-convert:hover {\n",
              "      background-color: #434B5C;\n",
              "      box-shadow: 0px 1px 3px 1px rgba(0, 0, 0, 0.15);\n",
              "      filter: drop-shadow(0px 1px 2px rgba(0, 0, 0, 0.3));\n",
              "      fill: #FFFFFF;\n",
              "    }\n",
              "  </style>\n",
              "\n",
              "      <script>\n",
              "        const buttonEl =\n",
              "          document.querySelector('#df-462989c0-25f8-42ef-ae13-5aac6cb49cb1 button.colab-df-convert');\n",
              "        buttonEl.style.display =\n",
              "          google.colab.kernel.accessAllowed ? 'block' : 'none';\n",
              "\n",
              "        async function convertToInteractive(key) {\n",
              "          const element = document.querySelector('#df-462989c0-25f8-42ef-ae13-5aac6cb49cb1');\n",
              "          const dataTable =\n",
              "            await google.colab.kernel.invokeFunction('convertToInteractive',\n",
              "                                                     [key], {});\n",
              "          if (!dataTable) return;\n",
              "\n",
              "          const docLinkHtml = 'Like what you see? Visit the ' +\n",
              "            '<a target=\"_blank\" href=https://colab.research.google.com/notebooks/data_table.ipynb>data table notebook</a>'\n",
              "            + ' to learn more about interactive tables.';\n",
              "          element.innerHTML = '';\n",
              "          dataTable['output_type'] = 'display_data';\n",
              "          await google.colab.output.renderOutput(dataTable, element);\n",
              "          const docLink = document.createElement('div');\n",
              "          docLink.innerHTML = docLinkHtml;\n",
              "          element.appendChild(docLink);\n",
              "        }\n",
              "      </script>\n",
              "    </div>\n",
              "  </div>\n",
              "  "
            ]
          },
          "metadata": {},
          "execution_count": 23
        }
      ]
    },
    {
      "cell_type": "code",
      "source": [],
      "metadata": {
        "id": "u8Dg9a-_BJGW"
      },
      "execution_count": null,
      "outputs": []
    }
  ]
}